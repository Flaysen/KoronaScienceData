{
 "cells": [
  {
   "cell_type": "code",
   "execution_count": 1,
   "metadata": {},
   "outputs": [],
   "source": [
    "from typing import List\n",
    "\n",
    "\n",
    "import pandas as pd\n",
    "import datetime\n",
    "from datetime import timedelta\n",
    "\n",
    "\n",
    "CONFIRMED_CASES_URL = f\"https://raw.githubusercontent.com/CSSEGISandData/COVID-19/master/csse_covid_19_data\" \\\n",
    "                      f\"/csse_covid_19_time_series/time_series_19-covid-Confirmed.csv \"\n",
    "\n",
    "\"\"\"\n",
    "When downloading data it's better to do it in a global scope instead of a function.\n",
    "This speeds up the tests significantly\n",
    "\"\"\"\n",
    "confirmed_cases = pd.read_csv(CONFIRMED_CASES_URL, error_bad_lines=False)\n",
    "\n",
    "\n",
    "def poland_cases_by_date(day: int, month: int, year: int = 2020) -> int:\n",
    "    \"\"\"\n",
    "    Returns confirmed infection cases for country 'Poland' given a date.\n",
    "    Ex.\n",
    "    >>> poland_cases_by_date(7, 3, 2020)\n",
    "    5\n",
    "    >>> poland_cases_by_date(11, 3)\n",
    "    31\n",
    "    :param year: 4 digit integer representation of the year to get the cases for, defaults to 2020\n",
    "    :param day: Day of month to get the cases for as an integer indexed from 1\n",
    "    :param month: Month to get the cases for as an integer indexed from 1\n",
    "    :return: Number of cases on a given date as an integer\n",
    "    \"\"\"  \n",
    "    \n",
    "    d = datetime.date(year, month, day)\n",
    "    \n",
    "    d = d.strftime('%m/%d/%y').lstrip(\"0\").replace(\" 0\", \" \")\n",
    "    \n",
    "    df = confirmed_cases;\n",
    "    \n",
    "    poland_cases = df.loc[df[\"Country/Region\"]==\"Poland\"]\n",
    "    \n",
    "    poland_cases = poland_cases[[d]].iat[0,0]\n",
    "    \n",
    "    return poland_cases.item()\n",
    "  \n",
    "\n",
    "\n",
    "def top5_countries_by_date(day: int, month: int, year: int = 2020) -> List[str]:\n",
    "    \"\"\"\n",
    "    Returns the top 5 infected countries given a date (confirmed cases).\n",
    "    Ex.\n",
    "    >>> top5_countries_by_date(27, 2, 2020)\n",
    "    ['China', 'Korea, South', 'Cruise Ship', 'Italy', 'Iran']\n",
    "    >>> top5_countries_by_date(12, 3)\n",
    "    ['China', 'Italy', 'Iran', 'Korea, South', 'France']\n",
    "    :param day: 4 digit integer representation of the year to get the countries for, defaults to 2020\n",
    "    :param month: Day of month to get the countries for as an integer indexed from 1\n",
    "    :param year: Month to get the countries for as an integer indexed from 1\n",
    "    :return: A list of strings with the names of the coutires\n",
    "    \"\"\"\n",
    "    \n",
    "    d = datetime.date(year, month, day)\n",
    "    df = confirmed_cases;\n",
    "    d = d.strftime('%m/%d/%y').lstrip(\"0\").replace(\" 0\", \" \")\n",
    "    result = df[[\"Country/Region\", d]].groupby(\"Country/Region\").sum().sort_values(by=d, ascending=False).head(5)\n",
    "    country_list = result.axes[0].tolist()\n",
    "    return(country_list)\n",
    " \n",
    "\n",
    "def no_new_cases_count(day: int, month: int, year: int = 2020) -> int:\n",
    "    \"\"\"\n",
    "    Returns the number of countries/regions where the infection count in a given day was the same as the previous day.\n",
    "    Ex.\n",
    "    >>> no_new_cases_count(11, 2, 2020)\n",
    "    35\n",
    "    >>> no_new_cases_count(3, 3)\n",
    "    57\n",
    "    :param day: 4 digit integer representation of the year to get the cases for, defaults to 2020\n",
    "    :param month: Day of month to get the countries for as an integer indexed from 1\n",
    "    :param year: Month to get the countries for as an integer indexed from 1\n",
    "    :return: Number of countries/regions where the count has not changed in a day\n",
    "    \"\"\"\n",
    "    \n",
    "    d = datetime.date(year, month, day)\n",
    "    y = d - timedelta(days = 1)\n",
    "    \n",
    "    d = d.strftime('%m/%d/%y').lstrip(\"0\").replace(\" 0\", \" \")\n",
    "    y = y.strftime('%m/%d/%y').lstrip(\"0\").replace(\" 0\", \" \")\n",
    "    \n",
    "    countries = confirmed_cases[['Country/Region', y, d]]\n",
    "    same_cases_count = countries.loc[(countries[y] != countries[d])]\n",
    "    countries_count = len(same_cases_count)\n",
    "    return(countries_count);\n",
    "  "
   ]
  },
  {
   "cell_type": "code",
   "execution_count": 2,
   "metadata": {},
   "outputs": [
    {
     "data": {
      "text/plain": [
       "31"
      ]
     },
     "execution_count": 2,
     "metadata": {},
     "output_type": "execute_result"
    }
   ],
   "source": [
    "poland_cases_by_date(11,3,2020)"
   ]
  },
  {
   "cell_type": "code",
   "execution_count": 3,
   "metadata": {},
   "outputs": [
    {
     "data": {
      "text/plain": [
       "['China', 'Italy', 'Iran', 'Korea, South', 'France']"
      ]
     },
     "execution_count": 3,
     "metadata": {},
     "output_type": "execute_result"
    }
   ],
   "source": [
    "top5_countries_by_date(12, 3)"
   ]
  },
  {
   "cell_type": "code",
   "execution_count": 4,
   "metadata": {},
   "outputs": [
    {
     "data": {
      "text/plain": [
       "35"
      ]
     },
     "execution_count": 4,
     "metadata": {},
     "output_type": "execute_result"
    }
   ],
   "source": [
    "no_new_cases_count(11,2,2020)"
   ]
  },
  {
   "cell_type": "code",
   "execution_count": null,
   "metadata": {},
   "outputs": [],
   "source": []
  }
 ],
 "metadata": {
  "kernelspec": {
   "display_name": "Python 3",
   "language": "python",
   "name": "python3"
  },
  "language_info": {
   "codemirror_mode": {
    "name": "ipython",
    "version": 3
   },
   "file_extension": ".py",
   "mimetype": "text/x-python",
   "name": "python",
   "nbconvert_exporter": "python",
   "pygments_lexer": "ipython3",
   "version": "3.8.2"
  }
 },
 "nbformat": 4,
 "nbformat_minor": 4
}
