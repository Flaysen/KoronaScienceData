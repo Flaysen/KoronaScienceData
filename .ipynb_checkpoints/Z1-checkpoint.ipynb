{
 "cells": [
  {
   "cell_type": "code",
   "execution_count": 1,
   "metadata": {},
   "outputs": [],
   "source": [
    "from typing import List\n",
    "\n",
    "\n",
    "import pandas as pd\n",
    "import datetime\n",
    "from datetime import timedelta\n",
    "\n",
    "\n",
    "CONFIRMED_CASES_URL = f\"https://raw.githubusercontent.com/CSSEGISandData/COVID-19/master/csse_covid_19_data\" \\\n",
    "                      f\"/csse_covid_19_time_series/time_series_19-covid-Confirmed.csv \"\n",
    "\n",
    "\"\"\"\n",
    "When downloading data it's better to do it in a global scope instead of a function.\n",
    "This speeds up the tests significantly\n",
    "\"\"\"\n",
    "confirmed_cases = pd.read_csv(CONFIRMED_CASES_URL, error_bad_lines=False)\n",
    "\n",
    "\n",
    "def poland_cases_by_date(day: int, month: int, year: int = 2020) -> int:\n",
    "    \"\"\"\n",
    "    Returns confirmed infection cases for country 'Poland' given a date.\n",
    "    Ex.\n",
    "    >>> poland_cases_by_date(7, 3, 2020)\n",
    "    5\n",
    "    >>> poland_cases_by_date(11, 3)\n",
    "    31\n",
    "    :param year: 4 digit integer representation of the year to get the cases for, defaults to 2020\n",
    "    :param day: Day of month to get the cases for as an integer indexed from 1\n",
    "    :param month: Month to get the cases for as an integer indexed from 1\n",
    "    :return: Number of cases on a given date as an integer\n",
    "    \"\"\"  \n",
    "    \n",
    "    d = datetime.date(year, month, day)\n",
    "    \n",
    "    d = d.strftime('%m/%d/%Y').lstrip(\"0\").replace(\" 0\", \" \")\n",
    "    \n",
    "    df = confirmed_cases;\n",
    "    \n",
    "    poland_cases = df.loc[df[\"Country/Region\"]==\"Poland\"]\n",
    "    \n",
    "    poland_cases = poland_cases[[d]].iat[0,0]\n",
    "    \n",
    "    return poland_cases.item()\n",
    "  \n",
    "\n",
    "\n",
    "def top5_countries_by_date(day: int, month: int, year: int = 2020) -> List[str]:\n",
    "    \"\"\"\n",
    "    Returns the top 5 infected countries given a date (confirmed cases).\n",
    "    Ex.\n",
    "    >>> top5_countries_by_date(27, 2, 2020)\n",
    "    ['China', 'Korea, South', 'Cruise Ship', 'Italy', 'Iran']\n",
    "    >>> top5_countries_by_date(12, 3)\n",
    "    ['China', 'Italy', 'Iran', 'Korea, South', 'France']\n",
    "    :param day: 4 digit integer representation of the year to get the countries for, defaults to 2020\n",
    "    :param month: Day of month to get the countries for as an integer indexed from 1\n",
    "    :param year: Month to get the countries for as an integer indexed from 1\n",
    "    :return: A list of strings with the names of the coutires\n",
    "    \"\"\"\n",
    "    \n",
    "    d = datetime.date(year, month, day)\n",
    "    df = confirmed_cases;\n",
    "    d = d.strftime('%m/%d/%y').lstrip(\"0\").replace(\" 0\", \" \")\n",
    "    result = df[[\"Country/Region\", d]].groupby(\"Country/Region\").sum().sort_values(by=d, ascending=False).head(5)\n",
    "    country_list = result.axes[0].tolist()\n",
    "    return(country_list)\n",
    " \n",
    "\n",
    "def no_new_cases_count(day: int, month: int, year: int = 2020) -> int:\n",
    "    \"\"\"\n",
    "    Returns the number of countries/regions where the infection count in a given day was the same as the previous day.\n",
    "    Ex.\n",
    "    >>> no_new_cases_count(11, 2, 2020)\n",
    "    35\n",
    "    >>> no_new_cases_count(3, 3)\n",
    "    57\n",
    "    :param day: 4 digit integer representation of the year to get the cases for, defaults to 2020\n",
    "    :param month: Day of month to get the countries for as an integer indexed from 1\n",
    "    :param year: Month to get the countries for as an integer indexed from 1\n",
    "    :return: Number of countries/regions where the count has not changed in a day\n",
    "    \"\"\"\n",
    "    \n",
    "    d = datetime.date(year, month, day)\n",
    "    y = d - timedelta(days = 1)\n",
    "    \n",
    "    d = d.strftime('%m/%d/%y').lstrip(\"0\").replace(\" 0\", \" \")\n",
    "    y = y.strftime('%m/%d/%y').lstrip(\"0\").replace(\" 0\", \" \")\n",
    "    \n",
    "    countries = confirmed_cases[['Country/Region', y, d]]\n",
    "    same_cases_count = countries.loc[(countries[y] != countries[d])]\n",
    "    countries_count = len(same_cases_count)\n",
    "    return(countries_count);\n",
    "  "
   ]
  },
  {
   "cell_type": "code",
   "execution_count": 2,
   "metadata": {},
   "outputs": [
    {
     "ename": "KeyError",
     "evalue": "\"None of [Index(['03/11/2020'], dtype='object')] are in the [columns]\"",
     "output_type": "error",
     "traceback": [
      "\u001b[1;31m---------------------------------------------------------------------------\u001b[0m",
      "\u001b[1;31mKeyError\u001b[0m                                  Traceback (most recent call last)",
      "\u001b[1;32m<ipython-input-2-a508842ac60b>\u001b[0m in \u001b[0;36m<module>\u001b[1;34m\u001b[0m\n\u001b[1;32m----> 1\u001b[1;33m \u001b[0mpoland_cases_by_date\u001b[0m\u001b[1;33m(\u001b[0m\u001b[1;36m11\u001b[0m\u001b[1;33m,\u001b[0m\u001b[1;36m3\u001b[0m\u001b[1;33m,\u001b[0m\u001b[1;36m2020\u001b[0m\u001b[1;33m)\u001b[0m\u001b[1;33m\u001b[0m\u001b[1;33m\u001b[0m\u001b[0m\n\u001b[0m",
      "\u001b[1;32m<ipython-input-1-4ade8f536dc5>\u001b[0m in \u001b[0;36mpoland_cases_by_date\u001b[1;34m(day, month, year)\u001b[0m\n\u001b[0;32m     39\u001b[0m     \u001b[0mpoland_cases\u001b[0m \u001b[1;33m=\u001b[0m \u001b[0mdf\u001b[0m\u001b[1;33m.\u001b[0m\u001b[0mloc\u001b[0m\u001b[1;33m[\u001b[0m\u001b[0mdf\u001b[0m\u001b[1;33m[\u001b[0m\u001b[1;34m\"Country/Region\"\u001b[0m\u001b[1;33m]\u001b[0m\u001b[1;33m==\u001b[0m\u001b[1;34m\"Poland\"\u001b[0m\u001b[1;33m]\u001b[0m\u001b[1;33m\u001b[0m\u001b[1;33m\u001b[0m\u001b[0m\n\u001b[0;32m     40\u001b[0m \u001b[1;33m\u001b[0m\u001b[0m\n\u001b[1;32m---> 41\u001b[1;33m     \u001b[0mpoland_cases\u001b[0m \u001b[1;33m=\u001b[0m \u001b[0mpoland_cases\u001b[0m\u001b[1;33m[\u001b[0m\u001b[1;33m[\u001b[0m\u001b[0md\u001b[0m\u001b[1;33m]\u001b[0m\u001b[1;33m]\u001b[0m\u001b[1;33m.\u001b[0m\u001b[0miat\u001b[0m\u001b[1;33m[\u001b[0m\u001b[1;36m0\u001b[0m\u001b[1;33m,\u001b[0m\u001b[1;36m0\u001b[0m\u001b[1;33m]\u001b[0m\u001b[1;33m\u001b[0m\u001b[1;33m\u001b[0m\u001b[0m\n\u001b[0m\u001b[0;32m     42\u001b[0m \u001b[1;33m\u001b[0m\u001b[0m\n\u001b[0;32m     43\u001b[0m     \u001b[1;32mreturn\u001b[0m \u001b[0mpoland_cases\u001b[0m\u001b[1;33m.\u001b[0m\u001b[0mitem\u001b[0m\u001b[1;33m(\u001b[0m\u001b[1;33m)\u001b[0m\u001b[1;33m\u001b[0m\u001b[1;33m\u001b[0m\u001b[0m\n",
      "\u001b[1;32mc:\\users\\kamil\\appdata\\local\\programs\\python\\python38-32\\lib\\site-packages\\pandas\\core\\frame.py\u001b[0m in \u001b[0;36m__getitem__\u001b[1;34m(self, key)\u001b[0m\n\u001b[0;32m   2804\u001b[0m             \u001b[1;32mif\u001b[0m \u001b[0mis_iterator\u001b[0m\u001b[1;33m(\u001b[0m\u001b[0mkey\u001b[0m\u001b[1;33m)\u001b[0m\u001b[1;33m:\u001b[0m\u001b[1;33m\u001b[0m\u001b[1;33m\u001b[0m\u001b[0m\n\u001b[0;32m   2805\u001b[0m                 \u001b[0mkey\u001b[0m \u001b[1;33m=\u001b[0m \u001b[0mlist\u001b[0m\u001b[1;33m(\u001b[0m\u001b[0mkey\u001b[0m\u001b[1;33m)\u001b[0m\u001b[1;33m\u001b[0m\u001b[1;33m\u001b[0m\u001b[0m\n\u001b[1;32m-> 2806\u001b[1;33m             \u001b[0mindexer\u001b[0m \u001b[1;33m=\u001b[0m \u001b[0mself\u001b[0m\u001b[1;33m.\u001b[0m\u001b[0mloc\u001b[0m\u001b[1;33m.\u001b[0m\u001b[0m_get_listlike_indexer\u001b[0m\u001b[1;33m(\u001b[0m\u001b[0mkey\u001b[0m\u001b[1;33m,\u001b[0m \u001b[0maxis\u001b[0m\u001b[1;33m=\u001b[0m\u001b[1;36m1\u001b[0m\u001b[1;33m,\u001b[0m \u001b[0mraise_missing\u001b[0m\u001b[1;33m=\u001b[0m\u001b[1;32mTrue\u001b[0m\u001b[1;33m)\u001b[0m\u001b[1;33m[\u001b[0m\u001b[1;36m1\u001b[0m\u001b[1;33m]\u001b[0m\u001b[1;33m\u001b[0m\u001b[1;33m\u001b[0m\u001b[0m\n\u001b[0m\u001b[0;32m   2807\u001b[0m \u001b[1;33m\u001b[0m\u001b[0m\n\u001b[0;32m   2808\u001b[0m         \u001b[1;31m# take() does not accept boolean indexers\u001b[0m\u001b[1;33m\u001b[0m\u001b[1;33m\u001b[0m\u001b[1;33m\u001b[0m\u001b[0m\n",
      "\u001b[1;32mc:\\users\\kamil\\appdata\\local\\programs\\python\\python38-32\\lib\\site-packages\\pandas\\core\\indexing.py\u001b[0m in \u001b[0;36m_get_listlike_indexer\u001b[1;34m(self, key, axis, raise_missing)\u001b[0m\n\u001b[0;32m   1549\u001b[0m             \u001b[0mkeyarr\u001b[0m\u001b[1;33m,\u001b[0m \u001b[0mindexer\u001b[0m\u001b[1;33m,\u001b[0m \u001b[0mnew_indexer\u001b[0m \u001b[1;33m=\u001b[0m \u001b[0max\u001b[0m\u001b[1;33m.\u001b[0m\u001b[0m_reindex_non_unique\u001b[0m\u001b[1;33m(\u001b[0m\u001b[0mkeyarr\u001b[0m\u001b[1;33m)\u001b[0m\u001b[1;33m\u001b[0m\u001b[1;33m\u001b[0m\u001b[0m\n\u001b[0;32m   1550\u001b[0m \u001b[1;33m\u001b[0m\u001b[0m\n\u001b[1;32m-> 1551\u001b[1;33m         self._validate_read_indexer(\n\u001b[0m\u001b[0;32m   1552\u001b[0m             \u001b[0mkeyarr\u001b[0m\u001b[1;33m,\u001b[0m \u001b[0mindexer\u001b[0m\u001b[1;33m,\u001b[0m \u001b[0mo\u001b[0m\u001b[1;33m.\u001b[0m\u001b[0m_get_axis_number\u001b[0m\u001b[1;33m(\u001b[0m\u001b[0maxis\u001b[0m\u001b[1;33m)\u001b[0m\u001b[1;33m,\u001b[0m \u001b[0mraise_missing\u001b[0m\u001b[1;33m=\u001b[0m\u001b[0mraise_missing\u001b[0m\u001b[1;33m\u001b[0m\u001b[1;33m\u001b[0m\u001b[0m\n\u001b[0;32m   1553\u001b[0m         )\n",
      "\u001b[1;32mc:\\users\\kamil\\appdata\\local\\programs\\python\\python38-32\\lib\\site-packages\\pandas\\core\\indexing.py\u001b[0m in \u001b[0;36m_validate_read_indexer\u001b[1;34m(self, key, indexer, axis, raise_missing)\u001b[0m\n\u001b[0;32m   1637\u001b[0m             \u001b[1;32mif\u001b[0m \u001b[0mmissing\u001b[0m \u001b[1;33m==\u001b[0m \u001b[0mlen\u001b[0m\u001b[1;33m(\u001b[0m\u001b[0mindexer\u001b[0m\u001b[1;33m)\u001b[0m\u001b[1;33m:\u001b[0m\u001b[1;33m\u001b[0m\u001b[1;33m\u001b[0m\u001b[0m\n\u001b[0;32m   1638\u001b[0m                 \u001b[0maxis_name\u001b[0m \u001b[1;33m=\u001b[0m \u001b[0mself\u001b[0m\u001b[1;33m.\u001b[0m\u001b[0mobj\u001b[0m\u001b[1;33m.\u001b[0m\u001b[0m_get_axis_name\u001b[0m\u001b[1;33m(\u001b[0m\u001b[0maxis\u001b[0m\u001b[1;33m)\u001b[0m\u001b[1;33m\u001b[0m\u001b[1;33m\u001b[0m\u001b[0m\n\u001b[1;32m-> 1639\u001b[1;33m                 \u001b[1;32mraise\u001b[0m \u001b[0mKeyError\u001b[0m\u001b[1;33m(\u001b[0m\u001b[1;34mf\"None of [{key}] are in the [{axis_name}]\"\u001b[0m\u001b[1;33m)\u001b[0m\u001b[1;33m\u001b[0m\u001b[1;33m\u001b[0m\u001b[0m\n\u001b[0m\u001b[0;32m   1640\u001b[0m \u001b[1;33m\u001b[0m\u001b[0m\n\u001b[0;32m   1641\u001b[0m             \u001b[1;31m# We (temporarily) allow for some missing keys with .loc, except in\u001b[0m\u001b[1;33m\u001b[0m\u001b[1;33m\u001b[0m\u001b[1;33m\u001b[0m\u001b[0m\n",
      "\u001b[1;31mKeyError\u001b[0m: \"None of [Index(['03/11/2020'], dtype='object')] are in the [columns]\""
     ]
    }
   ],
   "source": [
    "poland_cases_by_date(11,3,2020)"
   ]
  },
  {
   "cell_type": "code",
   "execution_count": null,
   "metadata": {},
   "outputs": [],
   "source": [
    "top5_countries_by_date(12, 3)"
   ]
  },
  {
   "cell_type": "code",
   "execution_count": null,
   "metadata": {},
   "outputs": [],
   "source": [
    "no_new_cases_count(11,2,2020)"
   ]
  },
  {
   "cell_type": "code",
   "execution_count": null,
   "metadata": {},
   "outputs": [],
   "source": []
  }
 ],
 "metadata": {
  "kernelspec": {
   "display_name": "Python 3",
   "language": "python",
   "name": "python3"
  },
  "language_info": {
   "codemirror_mode": {
    "name": "ipython",
    "version": 3
   },
   "file_extension": ".py",
   "mimetype": "text/x-python",
   "name": "python",
   "nbconvert_exporter": "python",
   "pygments_lexer": "ipython3",
   "version": "3.8.2"
  }
 },
 "nbformat": 4,
 "nbformat_minor": 4
}
